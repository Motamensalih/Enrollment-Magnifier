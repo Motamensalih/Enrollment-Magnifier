{
 "cells": [
  {
   "cell_type": "code",
   "execution_count": 2,
   "metadata": {},
   "outputs": [],
   "source": [
    "import pandas as pd"
   ]
  },
  {
   "cell_type": "code",
   "execution_count": 3,
   "metadata": {},
   "outputs": [],
   "source": [
    "stats_2017_2018 = pd.read_csv('UAEU Stats 2017-2018.csv')\n",
    "stats_2018_2019 = pd.read_csv('UAEU Stats 2018-2019.csv')\n",
    "stats_2019_2020 = pd.read_csv('UAEU Stats 2019-2020.csv')"
   ]
  },
  {
   "cell_type": "code",
   "execution_count": 4,
   "metadata": {},
   "outputs": [
    {
     "name": "stdout",
     "output_type": "stream",
     "text": [
      "        YEAR                  COLLEGE_DESC GENDER_DESC   NATIONALITY  \\\n",
      "0  2017-2018  Humanities & Social Sciences        Male      National   \n",
      "1  2017-2018  Humanities & Social Sciences        Male      National   \n",
      "2  2017-2018  Humanities & Social Sciences        Male      National   \n",
      "3  2017-2018  Humanities & Social Sciences        Male  Non-National   \n",
      "4  2017-2018  Humanities & Social Sciences        Male  Non-National   \n",
      "\n",
      "   STUDENT_LEVEL  TOTAL  \n",
      "0      Doctorate      4  \n",
      "1         Master      7  \n",
      "2  Undergraduate    238  \n",
      "3      Doctorate      5  \n",
      "4         Master      1  \n",
      "        YEAR                  COLLEGE_DESC GENDER_DESC   NATIONALITY  \\\n",
      "0  2018-2019  Humanities & Social Sciences        Male      National   \n",
      "1  2018-2019  Humanities & Social Sciences        Male      National   \n",
      "2  2018-2019  Humanities & Social Sciences        Male      National   \n",
      "3  2018-2019  Humanities & Social Sciences        Male  Non-national   \n",
      "4  2018-2019  Humanities & Social Sciences        Male  Non-national   \n",
      "\n",
      "   STUDENT_LEVEL  TOTAL  \n",
      "0      Doctorate    3.0  \n",
      "1         Master    7.0  \n",
      "2  Undergraduate  270.0  \n",
      "3      Doctorate    7.0  \n",
      "4         Master    1.0  \n",
      "        YEAR          COLLEGE_DESC GENDER_DESC    NATIONALITY  STUDENT_LEVEL  \\\n",
      "0  2019/2020      Academic Affairs      Female  Non-nationals  Undergraduate   \n",
      "1  2019/2020      Academic Affairs      Female  Non-nationals      Doctorate   \n",
      "2  2019/2020      Academic Affairs        Male  Non-nationals  Undergraduate   \n",
      "3  2019/2020  Business & Economics      Female      Nationals  Undergraduate   \n",
      "4  2019/2020  Business & Economics      Female      Nationals         Master   \n",
      "\n",
      "   TOTAL  \n",
      "0     16  \n",
      "1      1  \n",
      "2     12  \n",
      "3   1099  \n",
      "4     58  \n"
     ]
    }
   ],
   "source": [
    "print(stats_2017_2018.head())\n",
    "print(stats_2018_2019.head())\n",
    "print(stats_2019_2020.head())"
   ]
  },
  {
   "cell_type": "code",
   "execution_count": 5,
   "metadata": {},
   "outputs": [],
   "source": [
    "def lower_columns(df):\n",
    "    df.columns = [ x.lower().strip() for x in df.columns]"
   ]
  },
  {
   "cell_type": "code",
   "execution_count": 6,
   "metadata": {},
   "outputs": [],
   "source": [
    "lower_columns(stats_2017_2018)\n",
    "lower_columns(stats_2018_2019)\n",
    "lower_columns(stats_2019_2020)"
   ]
  },
  {
   "cell_type": "code",
   "execution_count": 7,
   "metadata": {},
   "outputs": [
    {
     "name": "stdout",
     "output_type": "stream",
     "text": [
      "        year                  college_desc gender_desc   nationality  \\\n",
      "0  2017-2018  Humanities & Social Sciences        Male      National   \n",
      "1  2017-2018  Humanities & Social Sciences        Male      National   \n",
      "2  2017-2018  Humanities & Social Sciences        Male      National   \n",
      "3  2017-2018  Humanities & Social Sciences        Male  Non-National   \n",
      "4  2017-2018  Humanities & Social Sciences        Male  Non-National   \n",
      "\n",
      "   student_level  total  \n",
      "0      Doctorate    4.0  \n",
      "1         Master    7.0  \n",
      "2  Undergraduate  238.0  \n",
      "3      Doctorate    5.0  \n",
      "4         Master    1.0  \n"
     ]
    }
   ],
   "source": [
    "df_full = pd.merge(stats_2017_2018, stats_2018_2019, how='outer')\n",
    "df_full = pd.merge(df_full, stats_2019_2020, how='outer')\n",
    "\n",
    "print(df_full.head())"
   ]
  },
  {
   "cell_type": "code",
   "execution_count": 8,
   "metadata": {},
   "outputs": [
    {
     "name": "stdout",
     "output_type": "stream",
     "text": [
      "<class 'pandas.core.frame.DataFrame'>\n",
      "Int64Index: 319 entries, 0 to 318\n",
      "Data columns (total 6 columns):\n",
      " #   Column         Non-Null Count  Dtype  \n",
      "---  ------         --------------  -----  \n",
      " 0   year           318 non-null    object \n",
      " 1   college_desc   318 non-null    object \n",
      " 2   gender_desc    318 non-null    object \n",
      " 3   nationality    318 non-null    object \n",
      " 4   student_level  318 non-null    object \n",
      " 5   total          318 non-null    float64\n",
      "dtypes: float64(1), object(5)\n",
      "memory usage: 17.4+ KB\n"
     ]
    }
   ],
   "source": [
    "df_full.info()"
   ]
  },
  {
   "cell_type": "code",
   "execution_count": 9,
   "metadata": {},
   "outputs": [],
   "source": [
    "def num_students_per_subject(subject):\n",
    "    num_2017_2018_total = stats_2017_2018[stats_2017_2018.college_desc == subject].total.sum()\n",
    "    num_2018_2019_total = stats_2018_2019[stats_2018_2019.college_desc == subject].total.sum()\n",
    "    num_2019_2020_total = stats_2019_2020[stats_2019_2020.college_desc == subject].total.sum()\n",
    "    df_full_total = df_full[df_full.college_desc == subject].total.sum()\n",
    "    \n",
    "    print(f\"\"\"\n",
    "          {subject} enrollment in 2017-2018: {num_2017_2018_total}\n",
    "          {subject} enrollment in 2018-2019: {num_2018_2019_total}\n",
    "          {subject} enrollment in 2019-2020: {num_2019_2020_total}\n",
    "          \n",
    "          Total {subject} enrollment: {df_full_total}\n",
    "          \"\"\")\n",
    "    \n",
    "    return num_2017_2018_total, num_2018_2019_total, num_2019_2020_total, df_full_total\n",
    "    "
   ]
  },
  {
   "cell_type": "code",
   "execution_count": 10,
   "metadata": {},
   "outputs": [
    {
     "name": "stdout",
     "output_type": "stream",
     "text": [
      "Medicine & Health Sciences      41\n",
      "Humanities & Social Sciences    36\n",
      "Business & Economics            36\n",
      "Food & Agriculture              36\n",
      "Information Technology          36\n",
      "Science                         35\n",
      "Education                       34\n",
      "Engineering                     34\n",
      "Law                             27\n",
      "Academic Affairs                 3\n",
      "Name: college_desc, dtype: int64\n"
     ]
    }
   ],
   "source": [
    "print(df_full.college_desc.value_counts())\n",
    "\n"
   ]
  },
  {
   "cell_type": "code",
   "execution_count": 11,
   "metadata": {},
   "outputs": [
    {
     "name": "stdout",
     "output_type": "stream",
     "text": [
      "\n",
      "          Medicine & Health Sciences enrollment in 2017-2018: 665\n",
      "          Medicine & Health Sciences enrollment in 2018-2019: 631.0\n",
      "          Medicine & Health Sciences enrollment in 2019-2020: 635\n",
      "          \n",
      "          Total Medicine & Health Sciences enrollment: 1931.0\n",
      "          \n"
     ]
    }
   ],
   "source": [
    "medicine_health_sciences_2017_2018, medical_health_sceinces_2018_2019, medicine_health_sciences_2019_2020, medicine_health_sciences_total  = num_students_per_subject('Medicine & Health Sciences')"
   ]
  },
  {
   "cell_type": "code",
   "execution_count": 12,
   "metadata": {},
   "outputs": [
    {
     "name": "stdout",
     "output_type": "stream",
     "text": [
      "\n",
      "          Humanities & Social Sciences enrollment in 2017-2018: 4130\n",
      "          Humanities & Social Sciences enrollment in 2018-2019: 3948.0\n",
      "          Humanities & Social Sciences enrollment in 2019-2020: 3429\n",
      "          \n",
      "          Total Humanities & Social Sciences enrollment: 11507.0\n",
      "          \n"
     ]
    }
   ],
   "source": [
    "humanities_social_sciences_2017_2018, humanities_social_sciences_2018_2019, humanities_social_sciences_2019_2020, humanities_social_sciences_total  = num_students_per_subject('Humanities & Social Sciences')"
   ]
  },
  {
   "cell_type": "code",
   "execution_count": 13,
   "metadata": {},
   "outputs": [
    {
     "name": "stdout",
     "output_type": "stream",
     "text": [
      "\n",
      "          Business & Economics enrollment in 2017-2018: 2143\n",
      "          Business & Economics enrollment in 2018-2019: 2064.0\n",
      "          Business & Economics enrollment in 2019-2020: 1760\n",
      "          \n",
      "          Total Business & Economics enrollment: 5967.0\n",
      "          \n"
     ]
    }
   ],
   "source": [
    "business_economics_2017_2018, business_economics_2018_2019, business_economics_2019_2020, business_economics_total  = num_students_per_subject('Business & Economics')"
   ]
  },
  {
   "cell_type": "code",
   "execution_count": 14,
   "metadata": {},
   "outputs": [
    {
     "name": "stdout",
     "output_type": "stream",
     "text": [
      "\n",
      "          Food & Agriculture enrollment in 2017-2018: 757\n",
      "          Food & Agriculture enrollment in 2018-2019: 738.0\n",
      "          Food & Agriculture enrollment in 2019-2020: 637\n",
      "          \n",
      "          Total Food & Agriculture enrollment: 2132.0\n",
      "          \n"
     ]
    }
   ],
   "source": [
    "food_agriculture_2017_2018, food_agriculture_2018_2019, food_agriculture_2019_2020, food_agriculture_total  = num_students_per_subject('Food & Agriculture')"
   ]
  },
  {
   "cell_type": "code",
   "execution_count": 15,
   "metadata": {},
   "outputs": [
    {
     "name": "stdout",
     "output_type": "stream",
     "text": [
      "\n",
      "          Information Technology enrollment in 2017-2018: 990\n",
      "          Information Technology enrollment in 2018-2019: 1283.0\n",
      "          Information Technology enrollment in 2019-2020: 1178\n",
      "          \n",
      "          Total Information Technology enrollment: 3451.0\n",
      "          \n"
     ]
    }
   ],
   "source": [
    "information_technology_2017_2018, information_technology_2018_2019, information_technology_2019_2020, information_technology_total  = num_students_per_subject('Information Technology')"
   ]
  },
  {
   "cell_type": "code",
   "execution_count": 20,
   "metadata": {},
   "outputs": [
    {
     "name": "stdout",
     "output_type": "stream",
     "text": [
      "\n",
      "          Law enrollment in 2017-2018: 1020\n",
      "          Law enrollment in 2018-2019: 964.0\n",
      "          Law enrollment in 2019-2020: 781\n",
      "          \n",
      "          Total Law enrollment: 2765.0\n",
      "          \n"
     ]
    }
   ],
   "source": [
    "science_2017_2018, science_2018_2019, science_2019_2020, science_total  = num_students_per_subject('Science')"
   ]
  },
  {
   "cell_type": "code",
   "execution_count": 17,
   "metadata": {},
   "outputs": [
    {
     "name": "stdout",
     "output_type": "stream",
     "text": [
      "\n",
      "          Education enrollment in 2017-2018: 742\n",
      "          Education enrollment in 2018-2019: 857.0\n",
      "          Education enrollment in 2019-2020: 790\n",
      "          \n",
      "          Total Education enrollment: 2389.0\n",
      "          \n"
     ]
    }
   ],
   "source": [
    "education_2017_2018, education_2018_2019, education_2019_2020, education_total  = num_students_per_subject('Education')"
   ]
  },
  {
   "cell_type": "code",
   "execution_count": 18,
   "metadata": {},
   "outputs": [
    {
     "name": "stdout",
     "output_type": "stream",
     "text": [
      "\n",
      "          Engineering enrollment in 2017-2018: 3054\n",
      "          Engineering enrollment in 2018-2019: 3063.0\n",
      "          Engineering enrollment in 2019-2020: 2768\n",
      "          \n",
      "          Total Engineering enrollment: 8885.0\n",
      "          \n"
     ]
    }
   ],
   "source": [
    "engineering_2017_2018, engineering_2018_2019, engineering_2019_2020, engineering_total  = num_students_per_subject('Engineering')"
   ]
  },
  {
   "cell_type": "code",
   "execution_count": 21,
   "metadata": {},
   "outputs": [
    {
     "name": "stdout",
     "output_type": "stream",
     "text": [
      "\n",
      "          Law enrollment in 2017-2018: 1020\n",
      "          Law enrollment in 2018-2019: 964.0\n",
      "          Law enrollment in 2019-2020: 781\n",
      "          \n",
      "          Total Law enrollment: 2765.0\n",
      "          \n"
     ]
    }
   ],
   "source": [
    "law_2017_2018, law_2018_2019, law_2019_2020, law_total  = num_students_per_subject('Law')"
   ]
  },
  {
   "cell_type": "code",
   "execution_count": 22,
   "metadata": {},
   "outputs": [
    {
     "name": "stdout",
     "output_type": "stream",
     "text": [
      "\n",
      "          Academic Affairs enrollment in 2017-2018: 0\n",
      "          Academic Affairs enrollment in 2018-2019: 0.0\n",
      "          Academic Affairs enrollment in 2019-2020: 29\n",
      "          \n",
      "          Total Academic Affairs enrollment: 29.0\n",
      "          \n"
     ]
    }
   ],
   "source": [
    "academic_affiars_2017_2018, academic_affiars_2018_2019, academic_affiars_2019_2020, academic_affiars_total  = num_students_per_subject('Academic Affairs')"
   ]
  },
  {
   "cell_type": "code",
   "execution_count": 19,
   "metadata": {},
   "outputs": [
    {
     "name": "stdout",
     "output_type": "stream",
     "text": [
      "Female    163\n",
      "Male      155\n",
      "Name: gender_desc, dtype: int64\n"
     ]
    }
   ],
   "source": [
    "print(df_full.gender_desc.value_counts())"
   ]
  }
 ],
 "metadata": {
  "interpreter": {
   "hash": "916dbcbb3f70747c44a77c7bcd40155683ae19c65e1c03b4aa3499c5328201f1"
  },
  "kernelspec": {
   "display_name": "Python 3.9.5 64-bit",
   "language": "python",
   "name": "python3"
  },
  "language_info": {
   "codemirror_mode": {
    "name": "ipython",
    "version": 3
   },
   "file_extension": ".py",
   "mimetype": "text/x-python",
   "name": "python",
   "nbconvert_exporter": "python",
   "pygments_lexer": "ipython3",
   "version": "3.9.5"
  },
  "orig_nbformat": 4
 },
 "nbformat": 4,
 "nbformat_minor": 2
}
