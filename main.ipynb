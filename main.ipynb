{
 "cells": [
  {
   "cell_type": "code",
   "execution_count": 14,
   "metadata": {},
   "outputs": [],
   "source": [
    "import pandas as pd"
   ]
  },
  {
   "cell_type": "code",
   "execution_count": 15,
   "metadata": {},
   "outputs": [],
   "source": [
    "stats_2017_2018 = pd.read_csv('UAEU Stats 2017-2018.csv')\n",
    "stats_2018_2019 = pd.read_csv('UAEU Stats 2018-2019.csv')\n",
    "stats_2019_2020 = pd.read_csv('UAEU Stats 2019-2020.csv')"
   ]
  },
  {
   "cell_type": "code",
   "execution_count": 16,
   "metadata": {},
   "outputs": [
    {
     "name": "stdout",
     "output_type": "stream",
     "text": [
      "        YEAR                  COLLEGE_DESC GENDER_DESC   NATIONALITY  \\\n",
      "0  2017-2018  Humanities & Social Sciences        Male      National   \n",
      "1  2017-2018  Humanities & Social Sciences        Male      National   \n",
      "2  2017-2018  Humanities & Social Sciences        Male      National   \n",
      "3  2017-2018  Humanities & Social Sciences        Male  Non-National   \n",
      "4  2017-2018  Humanities & Social Sciences        Male  Non-National   \n",
      "\n",
      "   STUDENT_LEVEL  TOTAL  \n",
      "0      Doctorate      4  \n",
      "1         Master      7  \n",
      "2  Undergraduate    238  \n",
      "3      Doctorate      5  \n",
      "4         Master      1  \n",
      "        YEAR                  COLLEGE_DESC GENDER_DESC   NATIONALITY  \\\n",
      "0  2018-2019  Humanities & Social Sciences        Male      National   \n",
      "1  2018-2019  Humanities & Social Sciences        Male      National   \n",
      "2  2018-2019  Humanities & Social Sciences        Male      National   \n",
      "3  2018-2019  Humanities & Social Sciences        Male  Non-national   \n",
      "4  2018-2019  Humanities & Social Sciences        Male  Non-national   \n",
      "\n",
      "   STUDENT_LEVEL  TOTAL  \n",
      "0      Doctorate    3.0  \n",
      "1         Master    7.0  \n",
      "2  Undergraduate  270.0  \n",
      "3      Doctorate    7.0  \n",
      "4         Master    1.0  \n",
      "        YEAR          COLLEGE_DESC GENDER_DESC    NATIONALITY  STUDENT_LEVEL  \\\n",
      "0  2019/2020      Academic Affairs      Female  Non-nationals  Undergraduate   \n",
      "1  2019/2020      Academic Affairs      Female  Non-nationals      Doctorate   \n",
      "2  2019/2020      Academic Affairs        Male  Non-nationals  Undergraduate   \n",
      "3  2019/2020  Business & Economics      Female      Nationals  Undergraduate   \n",
      "4  2019/2020  Business & Economics      Female      Nationals         Master   \n",
      "\n",
      "   TOTAL  \n",
      "0     16  \n",
      "1      1  \n",
      "2     12  \n",
      "3   1099  \n",
      "4     58  \n",
      "<class 'pandas.core.frame.DataFrame'>\n",
      "RangeIndex: 105 entries, 0 to 104\n",
      "Data columns (total 6 columns):\n",
      " #   Column         Non-Null Count  Dtype \n",
      "---  ------         --------------  ----- \n",
      " 0   YEAR           105 non-null    object\n",
      " 1   COLLEGE_DESC   105 non-null    object\n",
      " 2   GENDER_DESC    105 non-null    object\n",
      " 3   NATIONALITY    105 non-null    object\n",
      " 4   STUDENT_LEVEL  105 non-null    object\n",
      " 5   TOTAL          105 non-null    int64 \n",
      "dtypes: int64(1), object(5)\n",
      "memory usage: 5.0+ KB\n"
     ]
    }
   ],
   "source": [
    "print(stats_2017_2018.head())\n",
    "print(stats_2018_2019.head())\n",
    "print(stats_2019_2020.head())"
   ]
  },
  {
   "cell_type": "code",
   "execution_count": 19,
   "metadata": {},
   "outputs": [
    {
     "name": "stdout",
     "output_type": "stream",
     "text": [
      "        YEAR                  COLLEGE_DESC GENDER_DESC   NATIONALITY  \\\n",
      "0  2017-2018  Humanities & Social Sciences        Male      National   \n",
      "1  2017-2018  Humanities & Social Sciences        Male      National   \n",
      "2  2017-2018  Humanities & Social Sciences        Male      National   \n",
      "3  2017-2018  Humanities & Social Sciences        Male  Non-National   \n",
      "4  2017-2018  Humanities & Social Sciences        Male  Non-National   \n",
      "\n",
      "   STUDENT_LEVEL  TOTAL  \n",
      "0      Doctorate    4.0  \n",
      "1         Master    7.0  \n",
      "2  Undergraduate  238.0  \n",
      "3      Doctorate    5.0  \n",
      "4         Master    1.0  \n"
     ]
    }
   ],
   "source": [
    "df_full = pd.merge(stats_2017_2018, stats_2018_2019, how='outer')\n",
    "df_full = pd.merge(df_full, stats_2019_2020, how='outer')\n",
    "\n",
    "print(df_full.head())"
   ]
  },
  {
   "cell_type": "code",
   "execution_count": 20,
   "metadata": {},
   "outputs": [
    {
     "name": "stdout",
     "output_type": "stream",
     "text": [
      "<class 'pandas.core.frame.DataFrame'>\n",
      "Int64Index: 319 entries, 0 to 318\n",
      "Data columns (total 6 columns):\n",
      " #   Column         Non-Null Count  Dtype  \n",
      "---  ------         --------------  -----  \n",
      " 0   YEAR           318 non-null    object \n",
      " 1   COLLEGE_DESC   318 non-null    object \n",
      " 2   GENDER_DESC    318 non-null    object \n",
      " 3   NATIONALITY    318 non-null    object \n",
      " 4   STUDENT_LEVEL  318 non-null    object \n",
      " 5   TOTAL          318 non-null    float64\n",
      "dtypes: float64(1), object(5)\n",
      "memory usage: 17.4+ KB\n"
     ]
    }
   ],
   "source": [
    "df_full.info()"
   ]
  }
 ],
 "metadata": {
  "interpreter": {
   "hash": "916dbcbb3f70747c44a77c7bcd40155683ae19c65e1c03b4aa3499c5328201f1"
  },
  "kernelspec": {
   "display_name": "Python 3.9.5 64-bit",
   "language": "python",
   "name": "python3"
  },
  "language_info": {
   "codemirror_mode": {
    "name": "ipython",
    "version": 3
   },
   "file_extension": ".py",
   "mimetype": "text/x-python",
   "name": "python",
   "nbconvert_exporter": "python",
   "pygments_lexer": "ipython3",
   "version": "3.9.5"
  },
  "orig_nbformat": 4
 },
 "nbformat": 4,
 "nbformat_minor": 2
}
